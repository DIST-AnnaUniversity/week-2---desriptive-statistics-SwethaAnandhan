{
  "nbformat": 4,
  "nbformat_minor": 0,
  "metadata": {
    "colab": {
      "provenance": [],
      "collapsed_sections": []
    },
    "kernelspec": {
      "name": "python3",
      "display_name": "Python 3"
    },
    "language_info": {
      "name": "python"
    }
  },
  "cells": [
    {
      "cell_type": "code",
      "execution_count": 1,
      "metadata": {
        "colab": {
          "base_uri": "https://localhost:8080/",
          "height": 384
        },
        "id": "KRTPC_LwiwGP",
        "outputId": "44d7130f-5aa2-47d2-8771-4b6b6fbe3707"
      },
      "outputs": [
        {
          "output_type": "stream",
          "name": "stderr",
          "text": [
            "/usr/local/lib/python3.7/dist-packages/ipykernel_launcher.py:21: UserWarning: In Matplotlib 3.3 individual lines on a stem plot will be added as a LineCollection instead of individual lines. This significantly improves the performance of a stem plot. To remove this warning and switch to the new behaviour, set the \"use_line_collection\" keyword argument to True.\n"
          ]
        },
        {
          "output_type": "display_data",
          "data": {
            "text/plain": [
              "<Figure size 432x288 with 1 Axes>"
            ],
            "image/png": "[encoded data removed]"
          },
          "metadata": {
            "needs_background": "light"
          }
        },
        {
          "output_type": "stream",
          "name": "stdout",
          "text": [
            "lf 7.0\n",
            "uf 55.0\n",
            "Outliers are  []\n"
          ]
        }
      ],
      "source": [
        "import matplotlib.pyplot as plt\n",
        "import numpy as np\n",
        "\n",
        "def findoutlier(data):\n",
        "  q1,q3 = np.percentile(data,[25,75])\n",
        "  iqr = q3 - q1\n",
        "  # outliers = data[((data<(q1-1.5*iqr)) | (data>(q3+1.5*iqr)))]\n",
        "  lf = q1 - 1.5 * iqr\n",
        "  uf = q3 + 1.5 * iqr\n",
        "  print(\"lf\",lf)\n",
        "  print(\"uf\",uf)\n",
        "  outlier = []\n",
        "  for i in data:\n",
        "    if i not in range(int(lf),int(uf+1)):\n",
        "      outlier.append(i)\n",
        "  return outlier\n",
        "x = [19,19,19,20,21,21,25,25, 25, 26, 26, 28, 29, 31, 31, 32, 32, 33, 34, 35, 36, 37, 37, 38, 38, 38, 38, 41, 43, 43]\n",
        "plt.title('Stem Plot')\n",
        "plt.xlabel('Stems')\n",
        "plt.ylabel('Miles Per Gallon')\n",
        "plt.stem(x)\n",
        "plt.show()\n",
        "print(\"Outliers are \",findoutlier(x))\n"
      ]
    },
    {
      "cell_type": "code",
      "source": [
        "import matplotlib.pyplot as plot\n",
        "import numpy as np\n",
        "def findoutlier(data):\n",
        "  q1,q3 = np.percentile(data,[25,75])\n",
        "  iqr = q3 - q1\n",
        "  # outliers = data[((data<(q1-1.5*iqr)) | (data>(q3+1.5*iqr)))]\n",
        "  lf = q1 - 1.5 * iqr\n",
        "  uf = q3 + 1.5 * iqr\n",
        "  print(\"lf \",lf)\n",
        "  print(\"uf \",uf)\n",
        "  outlier = []\n",
        "  for i in data:\n",
        "    if i not in range(int(lf),int(uf+1)):\n",
        "      outlier.append(i)\n",
        "  return outlier\n",
        "Data = [77,78,76,81,86,51,79,82,84,99]\n",
        "stem = []\n",
        "for i in Data:\n",
        "    q = i//10\n",
        "    stem.append(q)\n",
        "plot.title('Stem Plot(Stem and Leaf Plot)')\n",
        "plot.xlabel('Stems')\n",
        "plot.ylabel('Grades on a Chemistry Exam / Leafs')\n",
        "plot.stem(stem, Data)\n",
        "plot.show()\n",
        "print(\"Outliers are \",findoutlier(Data))"
      ],
      "metadata": {
        "colab": {
          "base_uri": "https://localhost:8080/",
          "height": 384
        },
        "id": "NxsFn4v7juCF",
        "outputId": "4066cba2-491d-4c21-ecc0-a638095c29ce"
      },
      "execution_count": 2,
      "outputs": [
        {
          "output_type": "stream",
          "name": "stderr",
          "text": [
            "/usr/local/lib/python3.7/dist-packages/ipykernel_launcher.py:24: UserWarning: In Matplotlib 3.3 individual lines on a stem plot will be added as a LineCollection instead of individual lines. This significantly improves the performance of a stem plot. To remove this warning and switch to the new behaviour, set the \"use_line_collection\" keyword argument to True.\n"
          ]
        },
        {
          "output_type": "display_data",
          "data": {
            "text/plain": [
              "<Figure size 432x288 with 1 Axes>"
            ],
            "image/png": "[encoded data removed]"
          },
          "metadata": {
            "needs_background": "light"
          }
        },
        {
          "output_type": "stream",
          "name": "stdout",
          "text": [
            "lf  67.875\n",
            "uf  92.875\n",
            "Outliers are  [51, 99]\n"
          ]
        }
      ]
    },
    {
      "cell_type": "code",
      "source": [
        "import matplotlib.pyplot as plot\n",
        "import numpy as np\n",
        "Data = [0,1,2,3,4]\n",
        "Freq = [5,9,6,4,1]\n",
        "newdata = np.repeat(Data,Freq)\n",
        "plot.boxplot(newdata)\n",
        "plot.show()"
      ],
      "metadata": {
        "colab": {
          "base_uri": "https://localhost:8080/",
          "height": 265
        },
        "id": "Q2BWmG4IkIeT",
        "outputId": "988bd06e-37cc-424a-af71-32b8ede21b3f"
      },
      "execution_count": 3,
      "outputs": [
        {
          "output_type": "display_data",
          "data": {
            "text/plain": [
              "<Figure size 432x288 with 1 Axes>"
            ],
            "image/png": "[encoded data removed]"
          },
          "metadata": {
            "needs_background": "light"
          }
        }
      ]
    },
    {
      "cell_type": "code",
      "source": [
        "import matplotlib.pyplot as plt\n",
        "import numpy as np\n",
        "data = [7,14,15,18,19,20,22,23,26,40,42]\n",
        "freq = [1,3,1,1,4,3,1,1,1,2,2]\n",
        "newdata = np.repeat(data,freq)\n",
        "q1 , q3 = np.percentile(data,[25,75])\n",
        "iqr = q3 - q1\n",
        "print(\"IQR = \",iqr)"
      ],
      "metadata": {
        "colab": {
          "base_uri": "https://localhost:8080/"
        },
        "id": "uCwanIabkXkj",
        "outputId": "dc86aadc-8b2d-4070-e52b-957a41e29a34"
      },
      "execution_count": 4,
      "outputs": [
        {
          "output_type": "stream",
          "name": "stdout",
          "text": [
            "IQR =  8.0\n"
          ]
        }
      ]
    },
    {
      "cell_type": "code",
      "source": [
        " sorted(zip(data,freq),key = lambda x:x[1],reverse = True)[0][0]"
      ],
      "metadata": {
        "colab": {
          "base_uri": "https://localhost:8080/"
        },
        "id": "njtkMsmGkZ2w",
        "outputId": "7b1a9376-a4b1-48ac-914d-8c8b7029bd96"
      },
      "execution_count": 5,
      "outputs": [
        {
          "output_type": "execute_result",
          "data": {
            "text/plain": [
              "19"
            ]
          },
          "metadata": {},
          "execution_count": 5
        }
      ]
    },
    {
      "cell_type": "code",
      "source": [
        "mode_val = data[freq.index(max(freq))]\n",
        "print(mode_val)"
      ],
      "metadata": {
        "colab": {
          "base_uri": "https://localhost:8080/"
        },
        "id": "sg6Bcka6khhp",
        "outputId": "e92166d8-281c-40e2-f1e2-0a00e5e586c4"
      },
      "execution_count": 6,
      "outputs": [
        {
          "output_type": "stream",
          "name": "stdout",
          "text": [
            "19\n"
          ]
        }
      ]
    }
  ]
}